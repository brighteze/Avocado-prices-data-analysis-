{
  "nbformat": 4,
  "nbformat_minor": 0,
  "metadata": {
    "colab": {
      "name": "Avocado Prices Data 2020.ipynb",
      "provenance": [],
      "collapsed_sections": [],
      "authorship_tag": "ABX9TyMan2CQ0XMAHPR+twAi34XN"
    },
    "kernelspec": {
      "name": "python3",
      "display_name": "Python 3"
    },
    "language_info": {
      "name": "python"
    }
  },
  "cells": [
    {
      "cell_type": "markdown",
      "metadata": {
        "id": "fw22GY98TgpH"
      },
      "source": [
        "# AVOCADO PRICES DATA ANALYSIS"
      ]
    },
    {
      "cell_type": "markdown",
      "metadata": {
        "id": "refG6lrwTVM8"
      },
      "source": [
        "Summary of what this project is about.\n",
        "\n",
        "* This project is an exploratory data analysis project.\n",
        "* I'll be using the avocado prices dataset to conduct this analysis.\n",
        "* I'll clean the data, then conduct some analysis and visualizations.\n",
        "* In the end, we'll have answered some questions from the data.\n",
        "* These questions will be outlined as comments before code.\n",
        "* FYI, I have used Google Colab for this project.\n",
        "\n",
        "Enjoy.\n"
      ]
    },
    {
      "cell_type": "code",
      "metadata": {
        "id": "T1QRsMT-KWIC"
      },
      "source": [
        "pip install opendatasets --upgrade --quiet"
      ],
      "execution_count": null,
      "outputs": []
    },
    {
      "cell_type": "code",
      "metadata": {
        "id": "rorNfOy2b4Gr"
      },
      "source": [
        "# import relevant python modules\n",
        "# take note of the opendatasets library!\n",
        "# credit for opendatasets library goes to Aditya Prasad,  Jovian on YT\n",
        "\n",
        "import opendatasets as od # helps fetch data directly from kaggle\n",
        "import pandas as pd\n",
        "import numpy as np\n",
        "import math\n",
        "import matplotlib.pyplot as plt\n",
        "import seaborn as sns\n",
        "import datetime as dt"
      ],
      "execution_count": 204,
      "outputs": []
    },
    {
      "cell_type": "code",
      "metadata": {
        "colab": {
          "base_uri": "https://localhost:8080/"
        },
        "id": "hGCMvo_hcG0o",
        "outputId": "d1fcd526-ca9e-4e13-a1db-0bbbf0564189"
      },
      "source": [
        "# opendatasets import data into Jupyter, without storing on your PC.\n",
        "# Go to page that contains data, run below code, insert API key\n",
        "\n",
        "avocado_url = 'https://www.kaggle.com/timmate/avocado-prices-2020'\n",
        "od.download(avocado_url)"
      ],
      "execution_count": 6,
      "outputs": [
        {
          "output_type": "stream",
          "text": [
            "Please provide your Kaggle credentials to download this dataset. Learn more: http://bit.ly/kaggle-creds\n",
            "Your Kaggle username: brightezeoha\n",
            "Your Kaggle Key: ··········\n",
            "Downloading avocado-prices-2020.zip to ./avocado-prices-2020\n"
          ],
          "name": "stdout"
        },
        {
          "output_type": "stream",
          "text": [
            "100%|██████████| 1.13M/1.13M [00:00<00:00, 103MB/s]"
          ],
          "name": "stderr"
        },
        {
          "output_type": "stream",
          "text": [
            "\n"
          ],
          "name": "stdout"
        },
        {
          "output_type": "stream",
          "text": [
            "\n"
          ],
          "name": "stderr"
        }
      ]
    },
    {
      "cell_type": "code",
      "metadata": {
        "id": "aGfzWOHscHao"
      },
      "source": [
        "# pass the file path into a variable\n",
        "datafile = './avocado-prices-2020/avocado-updated-2020.csv'"
      ],
      "execution_count": 7,
      "outputs": []
    },
    {
      "cell_type": "code",
      "metadata": {
        "colab": {
          "base_uri": "https://localhost:8080/",
          "height": 202
        },
        "id": "I_ayQR6kfPP9",
        "outputId": "1e0002c9-28a4-4426-f033-7188a4bca2c3"
      },
      "source": [
        "# read variable as csv and view first 5 rows\n",
        "\n",
        "pear = pd.read_csv(datafile)\n",
        "pear.head()"
      ],
      "execution_count": 8,
      "outputs": [
        {
          "output_type": "execute_result",
          "data": {
            "text/html": [
              "<div>\n",
              "<style scoped>\n",
              "    .dataframe tbody tr th:only-of-type {\n",
              "        vertical-align: middle;\n",
              "    }\n",
              "\n",
              "    .dataframe tbody tr th {\n",
              "        vertical-align: top;\n",
              "    }\n",
              "\n",
              "    .dataframe thead th {\n",
              "        text-align: right;\n",
              "    }\n",
              "</style>\n",
              "<table border=\"1\" class=\"dataframe\">\n",
              "  <thead>\n",
              "    <tr style=\"text-align: right;\">\n",
              "      <th></th>\n",
              "      <th>date</th>\n",
              "      <th>average_price</th>\n",
              "      <th>total_volume</th>\n",
              "      <th>4046</th>\n",
              "      <th>4225</th>\n",
              "      <th>4770</th>\n",
              "      <th>total_bags</th>\n",
              "      <th>small_bags</th>\n",
              "      <th>large_bags</th>\n",
              "      <th>xlarge_bags</th>\n",
              "      <th>type</th>\n",
              "      <th>year</th>\n",
              "      <th>geography</th>\n",
              "    </tr>\n",
              "  </thead>\n",
              "  <tbody>\n",
              "    <tr>\n",
              "      <th>0</th>\n",
              "      <td>2015-01-04</td>\n",
              "      <td>1.22</td>\n",
              "      <td>40873.28</td>\n",
              "      <td>2819.50</td>\n",
              "      <td>28287.42</td>\n",
              "      <td>49.90</td>\n",
              "      <td>9716.46</td>\n",
              "      <td>9186.93</td>\n",
              "      <td>529.53</td>\n",
              "      <td>0.0</td>\n",
              "      <td>conventional</td>\n",
              "      <td>2015</td>\n",
              "      <td>Albany</td>\n",
              "    </tr>\n",
              "    <tr>\n",
              "      <th>1</th>\n",
              "      <td>2015-01-04</td>\n",
              "      <td>1.79</td>\n",
              "      <td>1373.95</td>\n",
              "      <td>57.42</td>\n",
              "      <td>153.88</td>\n",
              "      <td>0.00</td>\n",
              "      <td>1162.65</td>\n",
              "      <td>1162.65</td>\n",
              "      <td>0.00</td>\n",
              "      <td>0.0</td>\n",
              "      <td>organic</td>\n",
              "      <td>2015</td>\n",
              "      <td>Albany</td>\n",
              "    </tr>\n",
              "    <tr>\n",
              "      <th>2</th>\n",
              "      <td>2015-01-04</td>\n",
              "      <td>1.00</td>\n",
              "      <td>435021.49</td>\n",
              "      <td>364302.39</td>\n",
              "      <td>23821.16</td>\n",
              "      <td>82.15</td>\n",
              "      <td>46815.79</td>\n",
              "      <td>16707.15</td>\n",
              "      <td>30108.64</td>\n",
              "      <td>0.0</td>\n",
              "      <td>conventional</td>\n",
              "      <td>2015</td>\n",
              "      <td>Atlanta</td>\n",
              "    </tr>\n",
              "    <tr>\n",
              "      <th>3</th>\n",
              "      <td>2015-01-04</td>\n",
              "      <td>1.76</td>\n",
              "      <td>3846.69</td>\n",
              "      <td>1500.15</td>\n",
              "      <td>938.35</td>\n",
              "      <td>0.00</td>\n",
              "      <td>1408.19</td>\n",
              "      <td>1071.35</td>\n",
              "      <td>336.84</td>\n",
              "      <td>0.0</td>\n",
              "      <td>organic</td>\n",
              "      <td>2015</td>\n",
              "      <td>Atlanta</td>\n",
              "    </tr>\n",
              "    <tr>\n",
              "      <th>4</th>\n",
              "      <td>2015-01-04</td>\n",
              "      <td>1.08</td>\n",
              "      <td>788025.06</td>\n",
              "      <td>53987.31</td>\n",
              "      <td>552906.04</td>\n",
              "      <td>39995.03</td>\n",
              "      <td>141136.68</td>\n",
              "      <td>137146.07</td>\n",
              "      <td>3990.61</td>\n",
              "      <td>0.0</td>\n",
              "      <td>conventional</td>\n",
              "      <td>2015</td>\n",
              "      <td>Baltimore/Washington</td>\n",
              "    </tr>\n",
              "  </tbody>\n",
              "</table>\n",
              "</div>"
            ],
            "text/plain": [
              "         date  average_price  ...  year             geography\n",
              "0  2015-01-04           1.22  ...  2015                Albany\n",
              "1  2015-01-04           1.79  ...  2015                Albany\n",
              "2  2015-01-04           1.00  ...  2015               Atlanta\n",
              "3  2015-01-04           1.76  ...  2015               Atlanta\n",
              "4  2015-01-04           1.08  ...  2015  Baltimore/Washington\n",
              "\n",
              "[5 rows x 13 columns]"
            ]
          },
          "metadata": {
            "tags": []
          },
          "execution_count": 8
        }
      ]
    },
    {
      "cell_type": "markdown",
      "metadata": {
        "id": "8QDs0Wo_T2JA"
      },
      "source": [
        "# 1. Data Cleaning"
      ]
    },
    {
      "cell_type": "code",
      "metadata": {
        "colab": {
          "base_uri": "https://localhost:8080/",
          "height": 202
        },
        "id": "WhtAohQofPc6",
        "outputId": "89cf324a-d965-4c1d-8d11-b1373a23fdf1"
      },
      "source": [
        "# some columns seem wrong, let's rename them\n",
        "\n",
        "pear = pear.rename(columns = {'4046':'small', '4225':'large', '4770':'xlarge'})\n",
        "pear.head()"
      ],
      "execution_count": 9,
      "outputs": [
        {
          "output_type": "execute_result",
          "data": {
            "text/html": [
              "<div>\n",
              "<style scoped>\n",
              "    .dataframe tbody tr th:only-of-type {\n",
              "        vertical-align: middle;\n",
              "    }\n",
              "\n",
              "    .dataframe tbody tr th {\n",
              "        vertical-align: top;\n",
              "    }\n",
              "\n",
              "    .dataframe thead th {\n",
              "        text-align: right;\n",
              "    }\n",
              "</style>\n",
              "<table border=\"1\" class=\"dataframe\">\n",
              "  <thead>\n",
              "    <tr style=\"text-align: right;\">\n",
              "      <th></th>\n",
              "      <th>date</th>\n",
              "      <th>average_price</th>\n",
              "      <th>total_volume</th>\n",
              "      <th>small</th>\n",
              "      <th>large</th>\n",
              "      <th>xlarge</th>\n",
              "      <th>total_bags</th>\n",
              "      <th>small_bags</th>\n",
              "      <th>large_bags</th>\n",
              "      <th>xlarge_bags</th>\n",
              "      <th>type</th>\n",
              "      <th>year</th>\n",
              "      <th>geography</th>\n",
              "    </tr>\n",
              "  </thead>\n",
              "  <tbody>\n",
              "    <tr>\n",
              "      <th>0</th>\n",
              "      <td>2015-01-04</td>\n",
              "      <td>1.22</td>\n",
              "      <td>40873.28</td>\n",
              "      <td>2819.50</td>\n",
              "      <td>28287.42</td>\n",
              "      <td>49.90</td>\n",
              "      <td>9716.46</td>\n",
              "      <td>9186.93</td>\n",
              "      <td>529.53</td>\n",
              "      <td>0.0</td>\n",
              "      <td>conventional</td>\n",
              "      <td>2015</td>\n",
              "      <td>Albany</td>\n",
              "    </tr>\n",
              "    <tr>\n",
              "      <th>1</th>\n",
              "      <td>2015-01-04</td>\n",
              "      <td>1.79</td>\n",
              "      <td>1373.95</td>\n",
              "      <td>57.42</td>\n",
              "      <td>153.88</td>\n",
              "      <td>0.00</td>\n",
              "      <td>1162.65</td>\n",
              "      <td>1162.65</td>\n",
              "      <td>0.00</td>\n",
              "      <td>0.0</td>\n",
              "      <td>organic</td>\n",
              "      <td>2015</td>\n",
              "      <td>Albany</td>\n",
              "    </tr>\n",
              "    <tr>\n",
              "      <th>2</th>\n",
              "      <td>2015-01-04</td>\n",
              "      <td>1.00</td>\n",
              "      <td>435021.49</td>\n",
              "      <td>364302.39</td>\n",
              "      <td>23821.16</td>\n",
              "      <td>82.15</td>\n",
              "      <td>46815.79</td>\n",
              "      <td>16707.15</td>\n",
              "      <td>30108.64</td>\n",
              "      <td>0.0</td>\n",
              "      <td>conventional</td>\n",
              "      <td>2015</td>\n",
              "      <td>Atlanta</td>\n",
              "    </tr>\n",
              "    <tr>\n",
              "      <th>3</th>\n",
              "      <td>2015-01-04</td>\n",
              "      <td>1.76</td>\n",
              "      <td>3846.69</td>\n",
              "      <td>1500.15</td>\n",
              "      <td>938.35</td>\n",
              "      <td>0.00</td>\n",
              "      <td>1408.19</td>\n",
              "      <td>1071.35</td>\n",
              "      <td>336.84</td>\n",
              "      <td>0.0</td>\n",
              "      <td>organic</td>\n",
              "      <td>2015</td>\n",
              "      <td>Atlanta</td>\n",
              "    </tr>\n",
              "    <tr>\n",
              "      <th>4</th>\n",
              "      <td>2015-01-04</td>\n",
              "      <td>1.08</td>\n",
              "      <td>788025.06</td>\n",
              "      <td>53987.31</td>\n",
              "      <td>552906.04</td>\n",
              "      <td>39995.03</td>\n",
              "      <td>141136.68</td>\n",
              "      <td>137146.07</td>\n",
              "      <td>3990.61</td>\n",
              "      <td>0.0</td>\n",
              "      <td>conventional</td>\n",
              "      <td>2015</td>\n",
              "      <td>Baltimore/Washington</td>\n",
              "    </tr>\n",
              "  </tbody>\n",
              "</table>\n",
              "</div>"
            ],
            "text/plain": [
              "         date  average_price  ...  year             geography\n",
              "0  2015-01-04           1.22  ...  2015                Albany\n",
              "1  2015-01-04           1.79  ...  2015                Albany\n",
              "2  2015-01-04           1.00  ...  2015               Atlanta\n",
              "3  2015-01-04           1.76  ...  2015               Atlanta\n",
              "4  2015-01-04           1.08  ...  2015  Baltimore/Washington\n",
              "\n",
              "[5 rows x 13 columns]"
            ]
          },
          "metadata": {
            "tags": []
          },
          "execution_count": 9
        }
      ]
    },
    {
      "cell_type": "code",
      "metadata": {
        "colab": {
          "base_uri": "https://localhost:8080/"
        },
        "id": "RkR1EjqLqaNL",
        "outputId": "347e739f-7a50-4f47-aa6e-74f038bccc93"
      },
      "source": [
        "# let's review the data types, this is important.\n",
        "\n",
        "pear.dtypes"
      ],
      "execution_count": 11,
      "outputs": [
        {
          "output_type": "execute_result",
          "data": {
            "text/plain": [
              "date              object\n",
              "average_price    float64\n",
              "total_volume     float64\n",
              "small            float64\n",
              "large            float64\n",
              "xlarge           float64\n",
              "total_bags       float64\n",
              "small_bags       float64\n",
              "large_bags       float64\n",
              "xlarge_bags      float64\n",
              "type              object\n",
              "year               int64\n",
              "geography         object\n",
              "dtype: object"
            ]
          },
          "metadata": {
            "tags": []
          },
          "execution_count": 11
        }
      ]
    },
    {
      "cell_type": "markdown",
      "metadata": {
        "id": "PbbbXocjLtT8"
      },
      "source": [
        "We can see in the above that date is of datatype object, we will to change this."
      ]
    },
    {
      "cell_type": "code",
      "metadata": {
        "colab": {
          "base_uri": "https://localhost:8080/"
        },
        "id": "yNlAFKrYmsXy",
        "outputId": "ca1b5eb4-043f-4ddf-e478-02d4b2a2802b"
      },
      "source": [
        "# let's look for any missing values\n",
        "\n",
        "pear.isna().values.any()"
      ],
      "execution_count": 12,
      "outputs": [
        {
          "output_type": "execute_result",
          "data": {
            "text/plain": [
              "False"
            ]
          },
          "metadata": {
            "tags": []
          },
          "execution_count": 12
        }
      ]
    },
    {
      "cell_type": "code",
      "metadata": {
        "colab": {
          "base_uri": "https://localhost:8080/"
        },
        "id": "WVuNv01PnGsV",
        "outputId": "d0215682-76ab-42cd-b35e-ffc7e8c6d7f2"
      },
      "source": [
        "# let's look for duplicate values\n",
        "\n",
        "pear.duplicated().values.any()"
      ],
      "execution_count": 13,
      "outputs": [
        {
          "output_type": "execute_result",
          "data": {
            "text/plain": [
              "False"
            ]
          },
          "metadata": {
            "tags": []
          },
          "execution_count": 13
        }
      ]
    },
    {
      "cell_type": "code",
      "metadata": {
        "colab": {
          "base_uri": "https://localhost:8080/"
        },
        "id": "iKiYK_F-70pq",
        "outputId": "b8f40022-20d8-48d3-8d6c-6ee21315b4d3"
      },
      "source": [
        "# how many different locations are there in the data?\n",
        "\n",
        "pear['geography'].nunique()"
      ],
      "execution_count": 55,
      "outputs": [
        {
          "output_type": "execute_result",
          "data": {
            "text/plain": [
              "54"
            ]
          },
          "metadata": {
            "tags": []
          },
          "execution_count": 55
        }
      ]
    },
    {
      "cell_type": "code",
      "metadata": {
        "colab": {
          "base_uri": "https://localhost:8080/"
        },
        "id": "EDDyisDk8HLK",
        "outputId": "ee951e11-49bc-46ad-df25-c30b65536936"
      },
      "source": [
        "# names of all the locations in the data\n",
        "\n",
        "pear['geography'].unique()"
      ],
      "execution_count": 61,
      "outputs": [
        {
          "output_type": "execute_result",
          "data": {
            "text/plain": [
              "array(['Albany', 'Atlanta', 'Baltimore/Washington', 'Boise', 'Boston',\n",
              "       'Buffalo/Rochester', 'California', 'Charlotte', 'Chicago',\n",
              "       'Cincinnati/Dayton', 'Columbus', 'Dallas/Ft. Worth', 'Denver',\n",
              "       'Detroit', 'Grand Rapids', 'Great Lakes', 'Harrisburg/Scranton',\n",
              "       'Hartford/Springfield', 'Houston', 'Indianapolis', 'Jacksonville',\n",
              "       'Las Vegas', 'Los Angeles', 'Louisville', 'Miami/Ft. Lauderdale',\n",
              "       'Midsouth', 'Nashville', 'New Orleans/Mobile', 'New York',\n",
              "       'Northeast', 'Northern New England', 'Orlando', 'Philadelphia',\n",
              "       'Phoenix/Tucson', 'Pittsburgh', 'Plains', 'Portland',\n",
              "       'Raleigh/Greensboro', 'Richmond/Norfolk', 'Roanoke', 'Sacramento',\n",
              "       'San Diego', 'San Francisco', 'Seattle', 'South Carolina',\n",
              "       'South Central', 'Southeast', 'Spokane', 'St. Louis', 'Syracuse',\n",
              "       'Tampa', 'Total U.S.', 'West', 'West Tex/New Mexico'], dtype=object)"
            ]
          },
          "metadata": {
            "tags": []
          },
          "execution_count": 61
        }
      ]
    },
    {
      "cell_type": "markdown",
      "metadata": {
        "id": "q1PezQvJMUQd"
      },
      "source": [
        "From the above, we have some subtotals in the data, listed as;\n",
        " * Total US\n",
        " * Northeast\n",
        " * Midsouth\n",
        " * South Central\n",
        " * Southeast, and\n",
        " * West\n",
        " \n",
        "For this analysis, I don't need the subtotals, hence, I will filter them out."
      ]
    },
    {
      "cell_type": "code",
      "metadata": {
        "id": "eeqakmE37Vl2"
      },
      "source": [
        "total_pear = pear.loc[pear['geography'] == 'Total U.S.']"
      ],
      "execution_count": 65,
      "outputs": []
    },
    {
      "cell_type": "code",
      "metadata": {
        "colab": {
          "base_uri": "https://localhost:8080/",
          "height": 202
        },
        "id": "Mw_nGgkC7Wcx",
        "outputId": "ffafac22-2736-4769-876a-121f38ec4940"
      },
      "source": [
        "total_pear.head()"
      ],
      "execution_count": 66,
      "outputs": [
        {
          "output_type": "execute_result",
          "data": {
            "text/html": [
              "<div>\n",
              "<style scoped>\n",
              "    .dataframe tbody tr th:only-of-type {\n",
              "        vertical-align: middle;\n",
              "    }\n",
              "\n",
              "    .dataframe tbody tr th {\n",
              "        vertical-align: top;\n",
              "    }\n",
              "\n",
              "    .dataframe thead th {\n",
              "        text-align: right;\n",
              "    }\n",
              "</style>\n",
              "<table border=\"1\" class=\"dataframe\">\n",
              "  <thead>\n",
              "    <tr style=\"text-align: right;\">\n",
              "      <th></th>\n",
              "      <th>date</th>\n",
              "      <th>average_price</th>\n",
              "      <th>total_volume</th>\n",
              "      <th>small</th>\n",
              "      <th>large</th>\n",
              "      <th>xlarge</th>\n",
              "      <th>total_bags</th>\n",
              "      <th>small_bags</th>\n",
              "      <th>large_bags</th>\n",
              "      <th>xlarge_bags</th>\n",
              "      <th>type</th>\n",
              "      <th>year</th>\n",
              "      <th>geography</th>\n",
              "    </tr>\n",
              "  </thead>\n",
              "  <tbody>\n",
              "    <tr>\n",
              "      <th>102</th>\n",
              "      <td>2015-01-04</td>\n",
              "      <td>0.95</td>\n",
              "      <td>31324277.73</td>\n",
              "      <td>12357161.34</td>\n",
              "      <td>13624083.05</td>\n",
              "      <td>844093.32</td>\n",
              "      <td>4498940.02</td>\n",
              "      <td>3585321.58</td>\n",
              "      <td>894945.63</td>\n",
              "      <td>18672.81</td>\n",
              "      <td>conventional</td>\n",
              "      <td>2015</td>\n",
              "      <td>Total U.S.</td>\n",
              "    </tr>\n",
              "    <tr>\n",
              "      <th>103</th>\n",
              "      <td>2015-01-04</td>\n",
              "      <td>1.46</td>\n",
              "      <td>612910.15</td>\n",
              "      <td>233286.13</td>\n",
              "      <td>216611.20</td>\n",
              "      <td>4370.99</td>\n",
              "      <td>158641.83</td>\n",
              "      <td>115068.71</td>\n",
              "      <td>43573.12</td>\n",
              "      <td>0.00</td>\n",
              "      <td>organic</td>\n",
              "      <td>2015</td>\n",
              "      <td>Total U.S.</td>\n",
              "    </tr>\n",
              "    <tr>\n",
              "      <th>210</th>\n",
              "      <td>2015-01-11</td>\n",
              "      <td>1.01</td>\n",
              "      <td>29063542.75</td>\n",
              "      <td>11544810.53</td>\n",
              "      <td>12134773.38</td>\n",
              "      <td>866574.66</td>\n",
              "      <td>4517384.18</td>\n",
              "      <td>3783261.16</td>\n",
              "      <td>718333.87</td>\n",
              "      <td>15789.15</td>\n",
              "      <td>conventional</td>\n",
              "      <td>2015</td>\n",
              "      <td>Total U.S.</td>\n",
              "    </tr>\n",
              "    <tr>\n",
              "      <th>211</th>\n",
              "      <td>2015-01-11</td>\n",
              "      <td>1.42</td>\n",
              "      <td>669528.88</td>\n",
              "      <td>270966.74</td>\n",
              "      <td>260971.60</td>\n",
              "      <td>3830.42</td>\n",
              "      <td>133760.12</td>\n",
              "      <td>106844.49</td>\n",
              "      <td>26915.63</td>\n",
              "      <td>0.00</td>\n",
              "      <td>organic</td>\n",
              "      <td>2015</td>\n",
              "      <td>Total U.S.</td>\n",
              "    </tr>\n",
              "    <tr>\n",
              "      <th>318</th>\n",
              "      <td>2015-01-18</td>\n",
              "      <td>1.03</td>\n",
              "      <td>29043458.85</td>\n",
              "      <td>11858139.34</td>\n",
              "      <td>11701947.80</td>\n",
              "      <td>831301.90</td>\n",
              "      <td>4652069.81</td>\n",
              "      <td>3873041.26</td>\n",
              "      <td>771093.20</td>\n",
              "      <td>7935.35</td>\n",
              "      <td>conventional</td>\n",
              "      <td>2015</td>\n",
              "      <td>Total U.S.</td>\n",
              "    </tr>\n",
              "  </tbody>\n",
              "</table>\n",
              "</div>"
            ],
            "text/plain": [
              "           date  average_price  total_volume  ...          type  year   geography\n",
              "102  2015-01-04           0.95   31324277.73  ...  conventional  2015  Total U.S.\n",
              "103  2015-01-04           1.46     612910.15  ...       organic  2015  Total U.S.\n",
              "210  2015-01-11           1.01   29063542.75  ...  conventional  2015  Total U.S.\n",
              "211  2015-01-11           1.42     669528.88  ...       organic  2015  Total U.S.\n",
              "318  2015-01-18           1.03   29043458.85  ...  conventional  2015  Total U.S.\n",
              "\n",
              "[5 rows x 13 columns]"
            ]
          },
          "metadata": {
            "tags": []
          },
          "execution_count": 66
        }
      ]
    },
    {
      "cell_type": "code",
      "metadata": {
        "id": "09TKaE0lDEjo"
      },
      "source": [
        "# filter out 'Total' US in the geography column\n",
        "\n",
        "pear = pear.loc[pear['geography'] != 'Total U.S.']"
      ],
      "execution_count": 166,
      "outputs": []
    },
    {
      "cell_type": "code",
      "metadata": {
        "id": "YhpBBLI9Fbd2"
      },
      "source": [
        "pear = pear.loc[pear['geography'] != 'Northeast']"
      ],
      "execution_count": 167,
      "outputs": []
    },
    {
      "cell_type": "code",
      "metadata": {
        "id": "jg9UMmr_Fbxr"
      },
      "source": [
        "pear = pear.loc[pear['geography'] != 'Midsouth']"
      ],
      "execution_count": 168,
      "outputs": []
    },
    {
      "cell_type": "code",
      "metadata": {
        "id": "Nr59487AFcLk"
      },
      "source": [
        "pear = pear.loc[pear['geography'] != 'South Central']"
      ],
      "execution_count": 169,
      "outputs": []
    },
    {
      "cell_type": "code",
      "metadata": {
        "id": "RncnLZdkFclz"
      },
      "source": [
        "pear = pear.loc[pear['geography'] != 'Southeast']"
      ],
      "execution_count": 170,
      "outputs": []
    },
    {
      "cell_type": "code",
      "metadata": {
        "id": "QnYzf-z0FdT7"
      },
      "source": [
        "pear = pear.loc[pear['geography'] != 'West']"
      ],
      "execution_count": 171,
      "outputs": []
    },
    {
      "cell_type": "code",
      "metadata": {
        "colab": {
          "base_uri": "https://localhost:8080/"
        },
        "id": "K-H6u4NsJzH3",
        "outputId": "a87ebd11-14f6-4131-e2aa-2dda11538fd8"
      },
      "source": [
        "# how many different locations are there in the data?\n",
        "\n",
        "pear['geography'].nunique()"
      ],
      "execution_count": 194,
      "outputs": [
        {
          "output_type": "execute_result",
          "data": {
            "text/plain": [
              "48"
            ]
          },
          "metadata": {
            "tags": []
          },
          "execution_count": 194
        }
      ]
    },
    {
      "cell_type": "markdown",
      "metadata": {
        "id": "Ki3BhMCiJ1sC"
      },
      "source": [
        "Initially we had 54 unique locations, we filtered out 6 and now we have 48."
      ]
    },
    {
      "cell_type": "code",
      "metadata": {
        "colab": {
          "base_uri": "https://localhost:8080/"
        },
        "id": "vzv7FC8NDQO3",
        "outputId": "bbbbef46-c335-4911-bff9-d9716b89c9c0"
      },
      "source": [
        "# how many rows, columns do we have in the data.\n",
        "\n",
        "pear.shape"
      ],
      "execution_count": 172,
      "outputs": [
        {
          "output_type": "execute_result",
          "data": {
            "text/plain": [
              "(29373, 14)"
            ]
          },
          "metadata": {
            "tags": []
          },
          "execution_count": 172
        }
      ]
    },
    {
      "cell_type": "code",
      "metadata": {
        "id": "b4pQWMQOk-as"
      },
      "source": [
        "# convert the date to the right data type\n",
        "\n",
        "pear['date'] = pear['date'].astype('datetime64[ns]')"
      ],
      "execution_count": 173,
      "outputs": []
    },
    {
      "cell_type": "code",
      "metadata": {
        "colab": {
          "base_uri": "https://localhost:8080/"
        },
        "id": "Gwr3UV3kHZD0",
        "outputId": "311bd738-63e1-4175-b482-38b071ad83bb"
      },
      "source": [
        "# ceck to see if code worked\n",
        "\n",
        "pear['date'].head()"
      ],
      "execution_count": 174,
      "outputs": [
        {
          "output_type": "execute_result",
          "data": {
            "text/plain": [
              "0   2015-01-04\n",
              "1   2015-01-04\n",
              "2   2015-01-04\n",
              "3   2015-01-04\n",
              "4   2015-01-04\n",
              "Name: date, dtype: datetime64[ns]"
            ]
          },
          "metadata": {
            "tags": []
          },
          "execution_count": 174
        }
      ]
    },
    {
      "cell_type": "code",
      "metadata": {
        "colab": {
          "base_uri": "https://localhost:8080/"
        },
        "id": "NZ2t_wLkl4sg",
        "outputId": "e5dfae3f-d75b-4c8a-99a1-806ecb2bda0f"
      },
      "source": [
        "# check all data types\n",
        "\n",
        "pear.dtypes"
      ],
      "execution_count": 175,
      "outputs": [
        {
          "output_type": "execute_result",
          "data": {
            "text/plain": [
              "date             datetime64[ns]\n",
              "average_price           float64\n",
              "total_volume            float64\n",
              "small                   float64\n",
              "large                   float64\n",
              "xlarge                  float64\n",
              "total_bags              float64\n",
              "small_bags              float64\n",
              "large_bags              float64\n",
              "xlarge_bags             float64\n",
              "type                     object\n",
              "year                      int64\n",
              "geography                object\n",
              "month                    object\n",
              "dtype: object"
            ]
          },
          "metadata": {
            "tags": []
          },
          "execution_count": 175
        }
      ]
    },
    {
      "cell_type": "markdown",
      "metadata": {
        "id": "1FRZo9xiUOw6"
      },
      "source": [
        "# 2. Summary Statistics & Exploratory Data Analysis"
      ]
    },
    {
      "cell_type": "code",
      "metadata": {
        "colab": {
          "base_uri": "https://localhost:8080/",
          "height": 294
        },
        "id": "cYqL_TOptwTK",
        "outputId": "9dbacc76-d999-408d-fe29-14dcb047cf92"
      },
      "source": [
        "# summary statistics\n",
        "\n",
        "pear.describe()"
      ],
      "execution_count": 193,
      "outputs": [
        {
          "output_type": "execute_result",
          "data": {
            "text/html": [
              "<div>\n",
              "<style scoped>\n",
              "    .dataframe tbody tr th:only-of-type {\n",
              "        vertical-align: middle;\n",
              "    }\n",
              "\n",
              "    .dataframe tbody tr th {\n",
              "        vertical-align: top;\n",
              "    }\n",
              "\n",
              "    .dataframe thead th {\n",
              "        text-align: right;\n",
              "    }\n",
              "</style>\n",
              "<table border=\"1\" class=\"dataframe\">\n",
              "  <thead>\n",
              "    <tr style=\"text-align: right;\">\n",
              "      <th></th>\n",
              "      <th>average_price</th>\n",
              "      <th>total_volume</th>\n",
              "      <th>small</th>\n",
              "      <th>large</th>\n",
              "      <th>xlarge</th>\n",
              "      <th>total_bags</th>\n",
              "      <th>small_bags</th>\n",
              "      <th>large_bags</th>\n",
              "      <th>xlarge_bags</th>\n",
              "      <th>year</th>\n",
              "    </tr>\n",
              "  </thead>\n",
              "  <tbody>\n",
              "    <tr>\n",
              "      <th>count</th>\n",
              "      <td>29373.000000</td>\n",
              "      <td>2.937300e+04</td>\n",
              "      <td>2.937300e+04</td>\n",
              "      <td>2.937300e+04</td>\n",
              "      <td>29373.000000</td>\n",
              "      <td>2.937300e+04</td>\n",
              "      <td>2.937300e+04</td>\n",
              "      <td>2.937300e+04</td>\n",
              "      <td>29373.000000</td>\n",
              "      <td>29373.000000</td>\n",
              "    </tr>\n",
              "    <tr>\n",
              "      <th>mean</th>\n",
              "      <td>1.385951</td>\n",
              "      <td>3.969911e+05</td>\n",
              "      <td>1.176788e+05</td>\n",
              "      <td>1.186782e+05</td>\n",
              "      <td>11244.410539</td>\n",
              "      <td>1.493359e+05</td>\n",
              "      <td>1.059675e+05</td>\n",
              "      <td>3.915786e+04</td>\n",
              "      <td>4210.531002</td>\n",
              "      <td>2017.460899</td>\n",
              "    </tr>\n",
              "    <tr>\n",
              "      <th>std</th>\n",
              "      <td>0.384179</td>\n",
              "      <td>8.752849e+05</td>\n",
              "      <td>3.050917e+05</td>\n",
              "      <td>2.832787e+05</td>\n",
              "      <td>42664.431891</td>\n",
              "      <td>3.564222e+05</td>\n",
              "      <td>2.601095e+05</td>\n",
              "      <td>1.101372e+05</td>\n",
              "      <td>24966.658241</td>\n",
              "      <td>1.699752</td>\n",
              "    </tr>\n",
              "    <tr>\n",
              "      <th>min</th>\n",
              "      <td>0.440000</td>\n",
              "      <td>8.456000e+01</td>\n",
              "      <td>0.000000e+00</td>\n",
              "      <td>0.000000e+00</td>\n",
              "      <td>0.000000</td>\n",
              "      <td>0.000000e+00</td>\n",
              "      <td>0.000000e+00</td>\n",
              "      <td>0.000000e+00</td>\n",
              "      <td>0.000000</td>\n",
              "      <td>2015.000000</td>\n",
              "    </tr>\n",
              "    <tr>\n",
              "      <th>25%</th>\n",
              "      <td>1.100000</td>\n",
              "      <td>1.288030e+04</td>\n",
              "      <td>5.489400e+02</td>\n",
              "      <td>2.146330e+03</td>\n",
              "      <td>0.000000</td>\n",
              "      <td>7.719800e+03</td>\n",
              "      <td>5.005470e+03</td>\n",
              "      <td>2.775100e+02</td>\n",
              "      <td>0.000000</td>\n",
              "      <td>2016.000000</td>\n",
              "    </tr>\n",
              "    <tr>\n",
              "      <th>50%</th>\n",
              "      <td>1.350000</td>\n",
              "      <td>9.420900e+04</td>\n",
              "      <td>7.086890e+03</td>\n",
              "      <td>1.709910e+04</td>\n",
              "      <td>100.000000</td>\n",
              "      <td>4.081060e+04</td>\n",
              "      <td>2.654450e+04</td>\n",
              "      <td>4.304080e+03</td>\n",
              "      <td>0.000000</td>\n",
              "      <td>2017.000000</td>\n",
              "    </tr>\n",
              "    <tr>\n",
              "      <th>75%</th>\n",
              "      <td>1.620000</td>\n",
              "      <td>4.065207e+05</td>\n",
              "      <td>9.453673e+04</td>\n",
              "      <td>9.508510e+04</td>\n",
              "      <td>3385.240000</td>\n",
              "      <td>1.311426e+05</td>\n",
              "      <td>9.365131e+04</td>\n",
              "      <td>2.768854e+04</td>\n",
              "      <td>513.330000</td>\n",
              "      <td>2019.000000</td>\n",
              "    </tr>\n",
              "    <tr>\n",
              "      <th>max</th>\n",
              "      <td>3.250000</td>\n",
              "      <td>1.132468e+07</td>\n",
              "      <td>4.794142e+06</td>\n",
              "      <td>4.097592e+06</td>\n",
              "      <td>794742.870000</td>\n",
              "      <td>6.301211e+06</td>\n",
              "      <td>4.017035e+06</td>\n",
              "      <td>2.389750e+06</td>\n",
              "      <td>730833.290000</td>\n",
              "      <td>2020.000000</td>\n",
              "    </tr>\n",
              "  </tbody>\n",
              "</table>\n",
              "</div>"
            ],
            "text/plain": [
              "       average_price  total_volume  ...    xlarge_bags          year\n",
              "count   29373.000000  2.937300e+04  ...   29373.000000  29373.000000\n",
              "mean        1.385951  3.969911e+05  ...    4210.531002   2017.460899\n",
              "std         0.384179  8.752849e+05  ...   24966.658241      1.699752\n",
              "min         0.440000  8.456000e+01  ...       0.000000   2015.000000\n",
              "25%         1.100000  1.288030e+04  ...       0.000000   2016.000000\n",
              "50%         1.350000  9.420900e+04  ...       0.000000   2017.000000\n",
              "75%         1.620000  4.065207e+05  ...     513.330000   2019.000000\n",
              "max         3.250000  1.132468e+07  ...  730833.290000   2020.000000\n",
              "\n",
              "[8 rows x 10 columns]"
            ]
          },
          "metadata": {
            "tags": []
          },
          "execution_count": 193
        }
      ]
    },
    {
      "cell_type": "code",
      "metadata": {
        "colab": {
          "base_uri": "https://localhost:8080/"
        },
        "id": "bL6psWY7DWNm",
        "outputId": "4d782d63-160b-45d1-ae37-b0d8db4c1618"
      },
      "source": [
        "# unique list of all locations\n",
        "\n",
        "pear['geography'].unique()"
      ],
      "execution_count": 177,
      "outputs": [
        {
          "output_type": "execute_result",
          "data": {
            "text/plain": [
              "array(['Albany', 'Atlanta', 'Baltimore/Washington', 'Boise', 'Boston',\n",
              "       'Buffalo/Rochester', 'California', 'Charlotte', 'Chicago',\n",
              "       'Cincinnati/Dayton', 'Columbus', 'Dallas/Ft. Worth', 'Denver',\n",
              "       'Detroit', 'Grand Rapids', 'Great Lakes', 'Harrisburg/Scranton',\n",
              "       'Hartford/Springfield', 'Houston', 'Indianapolis', 'Jacksonville',\n",
              "       'Las Vegas', 'Los Angeles', 'Louisville', 'Miami/Ft. Lauderdale',\n",
              "       'Nashville', 'New Orleans/Mobile', 'New York',\n",
              "       'Northern New England', 'Orlando', 'Philadelphia',\n",
              "       'Phoenix/Tucson', 'Pittsburgh', 'Plains', 'Portland',\n",
              "       'Raleigh/Greensboro', 'Richmond/Norfolk', 'Roanoke', 'Sacramento',\n",
              "       'San Diego', 'San Francisco', 'Seattle', 'South Carolina',\n",
              "       'Spokane', 'St. Louis', 'Syracuse', 'Tampa', 'West Tex/New Mexico'],\n",
              "      dtype=object)"
            ]
          },
          "metadata": {
            "tags": []
          },
          "execution_count": 177
        }
      ]
    },
    {
      "cell_type": "code",
      "metadata": {
        "colab": {
          "base_uri": "https://localhost:8080/"
        },
        "id": "H60pHrwUmTUj",
        "outputId": "393144d1-ba94-465c-cc34-f78503f5f334"
      },
      "source": [
        "# which type of avocado sold more, we will visualize this later\n",
        "pear.groupby(['type']).sum().round()['total_volume'].astype('int64')"
      ],
      "execution_count": 178,
      "outputs": [
        {
          "output_type": "execute_result",
          "data": {
            "text/plain": [
              "type\n",
              "conventional    11261400966\n",
              "organic           399417420\n",
              "Name: total_volume, dtype: int64"
            ]
          },
          "metadata": {
            "tags": []
          },
          "execution_count": 178
        }
      ]
    },
    {
      "cell_type": "code",
      "metadata": {
        "colab": {
          "base_uri": "https://localhost:8080/"
        },
        "id": "vrrSdhS3LJ9U",
        "outputId": "dac251d5-6543-4d43-b58f-bd1d9621c270"
      },
      "source": [
        "# Average price of avocado in each year\n",
        "\n",
        "pear.groupby(['year']).mean()['average_price']"
      ],
      "execution_count": 195,
      "outputs": [
        {
          "output_type": "execute_result",
          "data": {
            "text/plain": [
              "year\n",
              "2015    1.382603\n",
              "2016    1.345453\n",
              "2017    1.522934\n",
              "2018    1.359938\n",
              "2019    1.405994\n",
              "2020    1.287101\n",
              "Name: average_price, dtype: float64"
            ]
          },
          "metadata": {
            "tags": []
          },
          "execution_count": 195
        }
      ]
    },
    {
      "cell_type": "code",
      "metadata": {
        "colab": {
          "base_uri": "https://localhost:8080/"
        },
        "id": "ualna9z5LNpq",
        "outputId": "c35a5ad6-81f1-4425-a001-07d7c008aa20"
      },
      "source": [
        "# Average price of avocado overall\n",
        "\n",
        "pear['average_price'].mean()"
      ],
      "execution_count": 196,
      "outputs": [
        {
          "output_type": "execute_result",
          "data": {
            "text/plain": [
              "1.3859510434752993"
            ]
          },
          "metadata": {
            "tags": []
          },
          "execution_count": 196
        }
      ]
    },
    {
      "cell_type": "code",
      "metadata": {
        "colab": {
          "base_uri": "https://localhost:8080/"
        },
        "id": "n4ZfnpI1LOY-",
        "outputId": "3440c491-01c4-4e64-d670-f19297a45a47"
      },
      "source": [
        "# Average price by type\n",
        "\n",
        "pear.groupby(['type']).mean()['average_price']"
      ],
      "execution_count": 197,
      "outputs": [
        {
          "output_type": "execute_result",
          "data": {
            "text/plain": [
              "type\n",
              "conventional    1.150897\n",
              "organic         1.621053\n",
              "Name: average_price, dtype: float64"
            ]
          },
          "metadata": {
            "tags": []
          },
          "execution_count": 197
        }
      ]
    },
    {
      "cell_type": "code",
      "metadata": {
        "colab": {
          "base_uri": "https://localhost:8080/"
        },
        "id": "KRXFfQL_Lh0C",
        "outputId": "30614b46-a90c-4f93-951e-da1d89555ac1"
      },
      "source": [
        "# Total volume of avocados\n",
        "\n",
        "pear['total_volume'].sum()"
      ],
      "execution_count": 198,
      "outputs": [
        {
          "output_type": "execute_result",
          "data": {
            "text/plain": [
              "11660818386.48"
            ]
          },
          "metadata": {
            "tags": []
          },
          "execution_count": 198
        }
      ]
    },
    {
      "cell_type": "code",
      "metadata": {
        "colab": {
          "base_uri": "https://localhost:8080/"
        },
        "id": "lcVW192VLrJq",
        "outputId": "fb09599e-329c-4d6b-fe42-b551ee0f1984"
      },
      "source": [
        "# Total volume by geography\n",
        "\n",
        "pear.groupby(['geography']).sum()['total_volume'].astype(int)"
      ],
      "execution_count": 199,
      "outputs": [
        {
          "output_type": "execute_result",
          "data": {
            "text/plain": [
              "geography\n",
              "Albany                    34816335\n",
              "Atlanta                  198994117\n",
              "Baltimore/Washington     276764634\n",
              "Boise                     30359552\n",
              "Boston                   204132518\n",
              "Buffalo/Rochester         51200924\n",
              "California              1991888301\n",
              "Charlotte                 81281272\n",
              "Chicago                  257665010\n",
              "Cincinnati/Dayton         92732806\n",
              "Columbus                  65936749\n",
              "Dallas/Ft. Worth         436204160\n",
              "Denver                   277929528\n",
              "Detroit                  140022779\n",
              "Grand Rapids              58969797\n",
              "Great Lakes             1220448350\n",
              "Harrisburg/Scranton       93976397\n",
              "Hartford/Springfield     104604965\n",
              "Houston                  420843846\n",
              "Indianapolis              66405884\n",
              "Jacksonville              62207464\n",
              "Las Vegas                108850752\n",
              "Los Angeles              959350488\n",
              "Louisville                34892671\n",
              "Miami/Ft. Lauderdale     231744848\n",
              "Nashville                 77453749\n",
              "New Orleans/Mobile        94666571\n",
              "New York                 528245244\n",
              "Northern New England     156937542\n",
              "Orlando                  135901316\n",
              "Philadelphia             158432673\n",
              "Phoenix/Tucson           382523413\n",
              "Pittsburgh                41095690\n",
              "Plains                   635257613\n",
              "Portland                 213543774\n",
              "Raleigh/Greensboro       107979304\n",
              "Richmond/Norfolk          91249976\n",
              "Roanoke                   55177287\n",
              "Sacramento               149271315\n",
              "San Diego                173764449\n",
              "San Francisco            274216888\n",
              "Seattle                  202402575\n",
              "South Carolina           133161444\n",
              "Spokane                   30781000\n",
              "St. Louis                 63164049\n",
              "Syracuse                  24128708\n",
              "Tampa                    148628067\n",
              "West Tex/New Mexico      280611566\n",
              "Name: total_volume, dtype: int64"
            ]
          },
          "metadata": {
            "tags": []
          },
          "execution_count": 199
        }
      ]
    },
    {
      "cell_type": "code",
      "metadata": {
        "colab": {
          "base_uri": "https://localhost:8080/",
          "height": 232
        },
        "id": "2x5xAa3uLxbx",
        "outputId": "eda3b04a-8d69-4216-a936-65dc59144bdd"
      },
      "source": [
        "# top 3 locations by volume \n",
        "top3 = pear.groupby(['geography']).sum()[['total_volume']].astype(int)\n",
        "top3.nlargest(5, 'total_volume')"
      ],
      "execution_count": 203,
      "outputs": [
        {
          "output_type": "execute_result",
          "data": {
            "text/html": [
              "<div>\n",
              "<style scoped>\n",
              "    .dataframe tbody tr th:only-of-type {\n",
              "        vertical-align: middle;\n",
              "    }\n",
              "\n",
              "    .dataframe tbody tr th {\n",
              "        vertical-align: top;\n",
              "    }\n",
              "\n",
              "    .dataframe thead th {\n",
              "        text-align: right;\n",
              "    }\n",
              "</style>\n",
              "<table border=\"1\" class=\"dataframe\">\n",
              "  <thead>\n",
              "    <tr style=\"text-align: right;\">\n",
              "      <th></th>\n",
              "      <th>total_volume</th>\n",
              "    </tr>\n",
              "    <tr>\n",
              "      <th>geography</th>\n",
              "      <th></th>\n",
              "    </tr>\n",
              "  </thead>\n",
              "  <tbody>\n",
              "    <tr>\n",
              "      <th>California</th>\n",
              "      <td>1991888301</td>\n",
              "    </tr>\n",
              "    <tr>\n",
              "      <th>Great Lakes</th>\n",
              "      <td>1220448350</td>\n",
              "    </tr>\n",
              "    <tr>\n",
              "      <th>Los Angeles</th>\n",
              "      <td>959350488</td>\n",
              "    </tr>\n",
              "    <tr>\n",
              "      <th>Plains</th>\n",
              "      <td>635257613</td>\n",
              "    </tr>\n",
              "    <tr>\n",
              "      <th>New York</th>\n",
              "      <td>528245244</td>\n",
              "    </tr>\n",
              "  </tbody>\n",
              "</table>\n",
              "</div>"
            ],
            "text/plain": [
              "             total_volume\n",
              "geography                \n",
              "California     1991888301\n",
              "Great Lakes    1220448350\n",
              "Los Angeles     959350488\n",
              "Plains          635257613\n",
              "New York        528245244"
            ]
          },
          "metadata": {
            "tags": []
          },
          "execution_count": 203
        }
      ]
    },
    {
      "cell_type": "markdown",
      "metadata": {
        "id": "miP59YggMMRN"
      },
      "source": [
        "\n",
        "\n",
        "\n",
        "\n",
        "\n",
        "# 3. Data Visualization\n",
        "\n",
        "\n",
        "\n",
        "\n"
      ]
    },
    {
      "cell_type": "code",
      "metadata": {
        "colab": {
          "base_uri": "https://localhost:8080/",
          "height": 431
        },
        "id": "vA_Mz_sgF8M1",
        "outputId": "29c1e51b-40ae-4fb7-e567-5c9fa0d8f55e"
      },
      "source": [
        "sns.set_style(\"darkgrid\")\n",
        "\n",
        "fig, ax = plt.subplots(figsize=(10,6))\n",
        "fig.suptitle('Price Distribution of Avocados', fontsize = 20)\n",
        "ax1 = sns.histplot(pear[pear['type']=='conventional'][\"average_price\"],\n",
        "                   color = 'y', label = 'Conventional', kde=True,\n",
        "                   stat=\"density\",linewidth=0)\n",
        "ax2 = sns.histplot(pear[pear['type']=='organic'][\"average_price\"],\n",
        "                   color = 'g', label = 'Organic', kde=True, stat=\"density\",\n",
        "                   linewidth=0)\n",
        "ax.set_xlabel('Average Price')\n",
        "plt.legend(title_fontsize = 12)\n",
        "plt.show()"
      ],
      "execution_count": 179,
      "outputs": [
        {
          "output_type": "display_data",
          "data": {
            "image/png": "[encoded data removed]",
            "text/plain": [
              "<Figure size 720x432 with 1 Axes>"
            ]
          },
          "metadata": {
            "tags": []
          }
        }
      ]
    },
    {
      "cell_type": "markdown",
      "metadata": {
        "id": "AnJ5xlCEWSeA"
      },
      "source": [
        "We can see the spread of price by avocado type & here are some deductions.\n",
        "\n",
        "* Highest price of conventional avocados reaches about USD2.00\n",
        "* Higghest price of organic avocados reachers over USD3.00\n",
        "* Expectedly, average price of conventional type is just over USD1.00\n",
        "* While average price of organic type hovers around USD1.5 - USD1.6\n",
        "* Overall average of both types come in around USD1.35 - USD1.40\n",
        "* On balance, conventional types sold more.\n",
        "\n",
        "Let's get further insights."
      ]
    },
    {
      "cell_type": "code",
      "metadata": {
        "colab": {
          "base_uri": "https://localhost:8080/",
          "height": 387
        },
        "id": "CwHHsiCqF9H1",
        "outputId": "7ee73c19-8a40-4d56-d936-ca2e656defa0"
      },
      "source": [
        "# yearly average prices by avocado type\n",
        "fig, ax = plt.subplots(figsize=(10,6))\n",
        "sns.lineplot(data=pear, x=\"year\", y=\"average_price\", hue=\"type\", ci = None)\n",
        "plt.show()"
      ],
      "execution_count": 180,
      "outputs": [
        {
          "output_type": "display_data",
          "data": {
            "image/png": "[encoded data removed]",
            "text/plain": [
              "<Figure size 720x432 with 1 Axes>"
            ]
          },
          "metadata": {
            "tags": []
          }
        }
      ]
    },
    {
      "cell_type": "markdown",
      "metadata": {
        "id": "O_T2vd8B-Uue"
      },
      "source": [
        "We can see a pattern, but we need to dig deeper, hence, let's view by month.\n",
        "\n",
        "This will give us a longer, more detailed chart, in the next line."
      ]
    },
    {
      "cell_type": "code",
      "metadata": {
        "colab": {
          "base_uri": "https://localhost:8080/",
          "height": 457
        },
        "id": "Q8QK-wzGtuuC",
        "outputId": "3687cf5b-e926-4697-ee82-bc7df015c9c6"
      },
      "source": [
        "fig, ax = plt.subplots(figsize=(14,7))\n",
        "ax.set_title('Trend of Average Price by Month')\n",
        "ax.set_xlabel('Date')\n",
        "ax.set_ylabel('Average Price')\n",
        "sns.lineplot(data=pear, x=\"date\", y=\"average_price\", hue=\"type\", ci=None)\n",
        "plt.show()"
      ],
      "execution_count": 181,
      "outputs": [
        {
          "output_type": "display_data",
          "data": {
            "image/png": "[encoded data removed]",
            "text/plain": [
              "<Figure size 1008x504 with 1 Axes>"
            ]
          },
          "metadata": {
            "tags": []
          }
        }
      ]
    },
    {
      "cell_type": "markdown",
      "metadata": {
        "id": "Qqc4yTSuQxCZ"
      },
      "source": [
        "**We can see a pattern here as follows;**\n",
        "* Both types of avocados have a similar average price trend.\n",
        "* A sharp rise around July.\n",
        "* A decline towards the end of the year.\n",
        "\n",
        "Next, let's zoom into this trend for more insights.\n",
        "\n",
        "We'll do that by visualizing average price by month, per year."
      ]
    },
    {
      "cell_type": "code",
      "metadata": {
        "id": "OfHtoYu5QDVY"
      },
      "source": [
        "# To achieve what we set out above, we need to add a month column\n",
        "\n",
        "pear['month'] = pear['date'].apply(lambda x: x.strftime(format='%m'))"
      ],
      "execution_count": 182,
      "outputs": []
    },
    {
      "cell_type": "code",
      "metadata": {
        "colab": {
          "base_uri": "https://localhost:8080/",
          "height": 110
        },
        "id": "_xB_42rwQW7Q",
        "outputId": "c2531187-f160-48f8-da54-cbfbe5a05e04"
      },
      "source": [
        "# check if the code worked, it did\n",
        "\n",
        "pear.tail(2)"
      ],
      "execution_count": 183,
      "outputs": [
        {
          "output_type": "execute_result",
          "data": {
            "text/html": [
              "<div>\n",
              "<style scoped>\n",
              "    .dataframe tbody tr th:only-of-type {\n",
              "        vertical-align: middle;\n",
              "    }\n",
              "\n",
              "    .dataframe tbody tr th {\n",
              "        vertical-align: top;\n",
              "    }\n",
              "\n",
              "    .dataframe thead th {\n",
              "        text-align: right;\n",
              "    }\n",
              "</style>\n",
              "<table border=\"1\" class=\"dataframe\">\n",
              "  <thead>\n",
              "    <tr style=\"text-align: right;\">\n",
              "      <th></th>\n",
              "      <th>date</th>\n",
              "      <th>average_price</th>\n",
              "      <th>total_volume</th>\n",
              "      <th>small</th>\n",
              "      <th>large</th>\n",
              "      <th>xlarge</th>\n",
              "      <th>total_bags</th>\n",
              "      <th>small_bags</th>\n",
              "      <th>large_bags</th>\n",
              "      <th>xlarge_bags</th>\n",
              "      <th>type</th>\n",
              "      <th>year</th>\n",
              "      <th>geography</th>\n",
              "      <th>month</th>\n",
              "    </tr>\n",
              "  </thead>\n",
              "  <tbody>\n",
              "    <tr>\n",
              "      <th>33043</th>\n",
              "      <td>2020-11-29</td>\n",
              "      <td>0.67</td>\n",
              "      <td>822818.75</td>\n",
              "      <td>234688.01</td>\n",
              "      <td>80205.15</td>\n",
              "      <td>10543.63</td>\n",
              "      <td>497381.96</td>\n",
              "      <td>285764.11</td>\n",
              "      <td>210808.02</td>\n",
              "      <td>809.83</td>\n",
              "      <td>conventional</td>\n",
              "      <td>2020</td>\n",
              "      <td>West Tex/New Mexico</td>\n",
              "      <td>11</td>\n",
              "    </tr>\n",
              "    <tr>\n",
              "      <th>33044</th>\n",
              "      <td>2020-11-29</td>\n",
              "      <td>1.35</td>\n",
              "      <td>24106.58</td>\n",
              "      <td>1236.96</td>\n",
              "      <td>617.80</td>\n",
              "      <td>1564.98</td>\n",
              "      <td>20686.84</td>\n",
              "      <td>17824.52</td>\n",
              "      <td>2862.32</td>\n",
              "      <td>0.00</td>\n",
              "      <td>organic</td>\n",
              "      <td>2020</td>\n",
              "      <td>West Tex/New Mexico</td>\n",
              "      <td>11</td>\n",
              "    </tr>\n",
              "  </tbody>\n",
              "</table>\n",
              "</div>"
            ],
            "text/plain": [
              "            date  average_price  total_volume  ...  year            geography  month\n",
              "33043 2020-11-29           0.67     822818.75  ...  2020  West Tex/New Mexico     11\n",
              "33044 2020-11-29           1.35      24106.58  ...  2020  West Tex/New Mexico     11\n",
              "\n",
              "[2 rows x 14 columns]"
            ]
          },
          "metadata": {
            "tags": []
          },
          "execution_count": 183
        }
      ]
    },
    {
      "cell_type": "code",
      "metadata": {
        "id": "sEqeDK-7PBMJ"
      },
      "source": [
        "\n",
        "\n",
        "data = pear.loc[pear['year']==2015, ['month', 'average_price']]\n",
        "pp_2015 = data.groupby(['month']).mean().round(2)\n",
        "\n",
        "data = pear.loc[pear['year']==2016, ['month', 'average_price']]\n",
        "pp_2016 = data.groupby(['month']).mean().round(2)\n",
        "\n",
        "data = pear.loc[pear['year']==2017, ['month', 'average_price']]\n",
        "pp_2017 = data.groupby(['month']).mean().round(2)\n",
        "\n",
        "data = pear.loc[pear['year']==2018, ['month', 'average_price']]\n",
        "pp_2018 = data.groupby(['month']).mean().round(2)\n",
        "\n",
        "data = pear.loc[pear['year']==2019, ['month', 'average_price']]\n",
        "pp_2019 = data.groupby(['month']).mean().round(2)\n",
        "\n",
        "data = pear.loc[pear['year']==2020, ['month', 'average_price']]\n",
        "pp_2020 = data.groupby(['month']).mean().round(2)"
      ],
      "execution_count": 184,
      "outputs": []
    },
    {
      "cell_type": "code",
      "metadata": {
        "colab": {
          "base_uri": "https://localhost:8080/",
          "height": 404
        },
        "id": "t104nhJJOqdL",
        "outputId": "09bcb098-856c-4b48-91a6-740d97121eb2"
      },
      "source": [
        "# Visualization for the Monthly Average Price of Avocado\n",
        "\n",
        "fig, ax = plt.subplots(figsize=(10,6))\n",
        "\n",
        "plt.plot(pp_2015, label='2015 Avocado Price')\n",
        "plt.plot(pp_2016, label='2016 Avocado Price')\n",
        "plt.plot(pp_2017,  label='2017 Avocado Price')\n",
        "plt.plot(pp_2018, label='2018 Avocado Price')\n",
        "plt.plot(pp_2019, label='2019 Avocado Price')\n",
        "plt.plot(pp_2020, label='2020 Avocado Price')\n",
        "\n",
        "ax.set_xlabel(\"Months\")\n",
        "ax.set_ylabel(\"Avacodo Price\")\n",
        "ax.set_title(\"Monthly Average Price per Unit of Avocado.\")\n",
        "\n",
        "plt.legend(bbox_to_anchor=(1.05, 1), loc='upper left') \n",
        "plt.show()"
      ],
      "execution_count": 185,
      "outputs": [
        {
          "output_type": "display_data",
          "data": {
            "image/png": "[encoded data removed]",
            "text/plain": [
              "<Figure size 720x432 with 1 Axes>"
            ]
          },
          "metadata": {
            "tags": []
          }
        }
      ]
    },
    {
      "cell_type": "markdown",
      "metadata": {
        "id": "Gg8LxV-Zghbi"
      },
      "source": [
        "We can see some observations as follows;\n",
        "\n",
        "* Average prices usually dropped in February, for every year.\n",
        "* Average prices peaked in July every year, except in year 2020.\n",
        "* Average prices also tend to drop at the end of the year, except in 2018.\n",
        "* From April, prices dropped steadily in 2020;\n",
        "  * This could be attributed to the impact of COVID19 lockdowns.\n",
        "\n",
        "It will be interesting to see if this trend continues in future years!"
      ]
    },
    {
      "cell_type": "code",
      "metadata": {
        "colab": {
          "base_uri": "https://localhost:8080/",
          "height": 404
        },
        "id": "byMmA80O-R5A",
        "outputId": "1a500aeb-4541-42ff-a7c7-9627125bd678"
      },
      "source": [
        "# Check Outliers in Average price.\n",
        "ax = plt.figure(figsize=(10, 6))\n",
        "\n",
        "sns.boxplot(x='average_price', data = pear, hue = 'type')\n",
        "plt.ylabel(\"Price\")\n",
        "plt.title(\"Outliers in Average Price\")\n",
        "\n",
        "plt.show()"
      ],
      "execution_count": 186,
      "outputs": [
        {
          "output_type": "display_data",
          "data": {
            "image/png": "[encoded data removed]",
            "text/plain": [
              "<Figure size 720x432 with 1 Axes>"
            ]
          },
          "metadata": {
            "tags": []
          }
        }
      ]
    },
    {
      "cell_type": "markdown",
      "metadata": {
        "id": "ZGAdoo9yeRJP"
      },
      "source": [
        "From the data, we can see that the oitliers mostly fall between 2.5 - over 3.0"
      ]
    },
    {
      "cell_type": "markdown",
      "metadata": {
        "id": "sFxBPCeeewI5"
      },
      "source": [
        "# 4. Conclusion"
      ]
    },
    {
      "cell_type": "markdown",
      "metadata": {
        "id": "iDn-fjuie5xl"
      },
      "source": [
        "We have been able to answer some questions based on the data, including;\n",
        "\n",
        "* Unique locations\n",
        "* Total volume\n",
        "* Volume by location\n",
        "* Locations with highest volumes\n",
        "* Average prices (overall and by type)\n",
        "* Spread of price\n",
        "* Trend of average prices, etc.\n",
        "\n",
        "However, there's still a lot more insights we can get from this data, such as;\n",
        "\n",
        "* Insights from sub regions\n",
        "* Advanced time series analysis, and \n",
        "* Predictive analysis.\n",
        "\n",
        "I will be addressing these in subsequent projects. Thanks for your time.\n",
        "\n"
      ]
    }
  ]
}